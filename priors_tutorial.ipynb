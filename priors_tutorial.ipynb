{
 "cells": [
  {
   "cell_type": "markdown",
   "metadata": {},
   "source": [
    "<img src=\"gwfish_priors_white.png\" width=\"300\" height=\"300\"> \n",
    "\n",
    "# GWFish meets Priors\n",
    "In Bayesian analysis, we start with prior beliefs about the parameters of the source, which represent our initial knowledge or assumptions. These priors can be informed by astrophysical models, previous observations, or theoretical predictions. As we observe the gravitational wave signal, we update these beliefs using the likelihood function, which quantifies the probability of observing the data given the parameters. The result is the posterior distribution, which represents our updated knowledge about the parameters after considering the data.\n",
    "\n",
    "One of the advantages of the Bayesian approach is its ability to incorporate prior information and quantify uncertainties in a rigorous way. By combining prior knowledge with the observed data, we can make more informed inferences about the properties of the gravitational wave source.\n",
    "\n",
    "$$p(\\vec{\\theta}|s) \\propto \\pi(\\vec{\\theta}){\\mathcal{L}}(s|\\vec{\\theta})$$\n",
    "\n",
    "The Fisher matrix analysis works in the assumption that when the signal to noise ratio (SNR) is sufficiently large, the likelihood is a highly peaked function and no priors are needed. However, this is rarely the case, as correlations may spread the likelihood and sampling from the multivariate Gaussian may leak outside the physical range of parameters. In the following tutorial we show how to incorporate prior information $\\pi(\\vec{\\theta})$ on top of the Fisher likelihood, with a sampling procedure that stays computationally efficient.\n",
    "\n",
    "The procedure is addressed in a second `GWFish` paper available on [arXiv](https://arxiv.org/abs/2404.16103). The usage of the code as for the paper's purposes can be found in this [repo](https://github.com/u-dupletsa/GWFish-meets-Priors)."
   ]
  },
  {
   "cell_type": "markdown",
   "metadata": {},
   "source": [
    "### Introducing the new modules\n",
    "This part is based on the new module `priors.py` and the sampling procedure relies on the `minimax_tilting_sampler.py` module (see below). It consists in building on top of the standard `GWFish`output and incorporate prior information in post-processing."
   ]
  },
  {
   "cell_type": "code",
   "execution_count": null,
   "metadata": {},
   "outputs": [],
   "source": [
    "import warnings\n",
    "warnings.filterwarnings(\"ignore\", \"Wswiglal-redir-stdio\")\n",
    "import GWFish.modules as gw\n",
    "from GWFish.modules.priors import *\n",
    "\n",
    "import numpy as np\n",
    "import pandas as pd\n",
    "\n",
    "import matplotlib.pyplot as plt\n",
    "import seaborn as sns"
   ]
  },
  {
   "cell_type": "code",
   "execution_count": 2,
   "metadata": {},
   "outputs": [],
   "source": [
    "matplotlib.rc('xtick', labelsize = 12) \n",
    "matplotlib.rc('ytick', labelsize = 12)\n",
    "\n",
    "matplotlib.rcParams.update(matplotlib.rcParamsDefault)\n",
    "matplotlib.rcParams['text.usetex'] = True\n",
    "\n",
    "sns.set_style(\"whitegrid\")\n",
    "sns.set_context(\"paper\", font_scale=1.5)\n",
    "sns.set_palette(\"colorblind\")\n",
    "sns.set_style({'font.family':'serif', 'font.serif':'Times New Roman'})"
   ]
  },
  {
   "cell_type": "markdown",
   "metadata": {},
   "source": [
    "### Produce standard `GWfish` output\n",
    "For a throughout guide refer to the main `gwfish_tutorial.ipynb`"
   ]
  },
  {
   "cell_type": "code",
   "execution_count": null,
   "metadata": {},
   "outputs": [
    {
     "data": {
      "text/html": [
       "<div>\n",
       "<style scoped>\n",
       "    .dataframe tbody tr th:only-of-type {\n",
       "        vertical-align: middle;\n",
       "    }\n",
       "\n",
       "    .dataframe tbody tr th {\n",
       "        vertical-align: top;\n",
       "    }\n",
       "\n",
       "    .dataframe thead th {\n",
       "        text-align: right;\n",
       "    }\n",
       "</style>\n",
       "<table border=\"1\" class=\"dataframe\">\n",
       "  <thead>\n",
       "    <tr style=\"text-align: right;\">\n",
       "      <th></th>\n",
       "      <th>chirp_mass</th>\n",
       "      <th>mass_ratio</th>\n",
       "      <th>luminosity_distance</th>\n",
       "      <th>theta_jn</th>\n",
       "      <th>ra</th>\n",
       "      <th>dec</th>\n",
       "      <th>psi</th>\n",
       "      <th>phase</th>\n",
       "      <th>geocent_time</th>\n",
       "      <th>a_1</th>\n",
       "      <th>a_2</th>\n",
       "      <th>tilt_1</th>\n",
       "      <th>tilt_2</th>\n",
       "      <th>phi_12</th>\n",
       "      <th>phi_jl</th>\n",
       "    </tr>\n",
       "  </thead>\n",
       "  <tbody>\n",
       "    <tr>\n",
       "      <th>0</th>\n",
       "      <td>20</td>\n",
       "      <td>0.75</td>\n",
       "      <td>1000.0</td>\n",
       "      <td>0.785398</td>\n",
       "      <td>0.785398</td>\n",
       "      <td>0.785398</td>\n",
       "      <td>0.785398</td>\n",
       "      <td>0.785398</td>\n",
       "      <td>1187008882</td>\n",
       "      <td>0.2</td>\n",
       "      <td>0.2</td>\n",
       "      <td>0.785398</td>\n",
       "      <td>0.785398</td>\n",
       "      <td>0.785398</td>\n",
       "      <td>0.785398</td>\n",
       "    </tr>\n",
       "  </tbody>\n",
       "</table>\n",
       "</div>"
      ],
      "text/plain": [
       "   chirp_mass  mass_ratio  luminosity_distance  theta_jn        ra       dec  \\\n",
       "0          20        0.75               1000.0  0.785398  0.785398  0.785398   \n",
       "\n",
       "        psi     phase  geocent_time  a_1  a_2    tilt_1    tilt_2    phi_12  \\\n",
       "0  0.785398  0.785398    1187008882  0.2  0.2  0.785398  0.785398  0.785398   \n",
       "\n",
       "     phi_jl  \n",
       "0  0.785398  "
      ]
     },
     "execution_count": 4,
     "metadata": {},
     "output_type": "execute_result"
    }
   ],
   "source": [
    "# Event's parameters should be passed as Pandas dataframe\n",
    "parameters = {\n",
    "    'chirp_mass': np.array([20]), \n",
    "    'mass_ratio': np.array([0.75]), \n",
    "    'luminosity_distance': np.array([1000.]),\n",
    "    'theta_jn': np.array([np.pi/4]),\n",
    "    'ra': np.array([np.pi/4]),\n",
    "    'dec': np.array([np.pi/4]),\n",
    "    'psi': np.array([np.pi/4]),\n",
    "    'phase': np.array([np.pi/4]),\n",
    "    'geocent_time': np.array([1187008882]),\n",
    "    'a_1':np.array([0.2]), \n",
    "    'a_2':np.array([0.2]),\n",
    "    'tilt_1':np.array([np.pi/4]),\n",
    "    'tilt_2':np.array([np.pi/4]),\n",
    "    'phi_12':np.array([np.pi/4]),\n",
    "    'phi_jl':np.array([np.pi/4])}\n",
    "parameters = pd.DataFrame(parameters)\n",
    "parameters"
   ]
  },
  {
   "cell_type": "code",
   "execution_count": 5,
   "metadata": {},
   "outputs": [],
   "source": [
    "# The fisher parameters are the parameters that will be used to calculate the Fisher matrix\n",
    "# and on which we will calculate the errors\n",
    "fisher_parameters = list(parameters.keys())"
   ]
  },
  {
   "cell_type": "code",
   "execution_count": 17,
   "metadata": {},
   "outputs": [
    {
     "name": "stderr",
     "output_type": "stream",
     "text": [
      "100%|██████████| 1/1 [00:03<00:00,  3.68s/it]\n"
     ]
    }
   ],
   "source": [
    "detected, network_snr, parameter_errors, sky_localization = gw.fishermatrix.compute_network_errors(\n",
    "        network = gw.detection.Network(detector_ids = ['LLO'], detection_SNR = (0., 8.)),\n",
    "        parameter_values = parameters,\n",
    "        fisher_parameters=fisher_parameters, \n",
    "        waveform_model = 'IMRPhenomXPHM',\n",
    "        save_matrices = True # you need to save the covariance matrix for the next steps\n",
    "        )"
   ]
  },
  {
   "cell_type": "markdown",
   "metadata": {},
   "source": [
    "## Post-processing with priors"
   ]
  },
  {
   "cell_type": "code",
   "execution_count": null,
   "metadata": {},
   "outputs": [],
   "source": [
    "np.random.seed(42) # fix for reproducibility\n",
    "rng = np.random.default_rng()\n",
    "# Decide the number of samples to draw\n",
    "num_samples = int(1e6)"
   ]
  },
  {
   "cell_type": "markdown",
   "metadata": {},
   "source": [
    "### Sampling from the multivariate-Gaussian \n",
    "We sample directly using the covariance matrix from `GWFish` without any prior on parameters"
   ]
  },
  {
   "cell_type": "code",
   "execution_count": null,
   "metadata": {},
   "outputs": [],
   "source": [
    "param_lbs = {'chirp_mass': r'$\\mathcal{M}_c$ $[M_{\\odot}]$', 'mass_ratio': r'$q$', 'luminosity_distance': r'$d_L$ [Mpc]',\n",
    "                'dec': r'$\\texttt{DEC}$ [rad]', 'ra': r'$\\texttt{RA}$ [rad]', 'theta_jn': r'$\\theta_{JN}$ [rad]', 'psi': r'$\\Psi$ [rad]',\n",
    "                'phase': r'$\\phi$ [rad]', 'geocent_time': r'$t_c$ [rad][s]', 'a_1': r'$a_1$', 'a_2': r'$a_2$',\n",
    "                'tilt_1': r'$\\theta_1$ [rad]', 'tilt_2': r'$\\theta_2$ [rad]', 'phi_12': r'$\\phi_{12}$ [rad]',\n",
    "                'phi_jl': r'$\\phi_{JL}$ [rad]'}\n",
    " \n",
    "mean_values = np.array(parameters[fisher_parameters ].iloc[0]) # mean values of the parameters\n",
    "cov_matrix = np.load('inv_fisher_matrices.npy')[0, :, :]\n",
    "samples = rng.multivariate_normal(mean_values, cov_matrix, int(1e6))"
   ]
  },
  {
   "cell_type": "markdown",
   "metadata": {},
   "source": [
    "## Minimax tilting sampling from truncated Gaussian\n",
    "Some parameters (especially angles and spins), even with high SNR, may still be poorly measured and show a largely-spread likelihood. Consequently, when drawing likelihood samples, most samples lie outside the physical range of parameters. Therefore, we sample directly from the truncated form of the Gaussian likelihood to prevent drawing a large number of samples with null prior, which would have to be discarded. In particular, we rely on the algorithm developed in [Botev 2016](https://arxiv.org/abs/1603.04166) (we slighlty modified the code - publicly available on [GitHub](https://github.com/brunzema/truncated-mvn-sampler?tab=readme-ov-file)- based on this paper). This effectively accounts for the parameters' boundaries, ensuring the samples are in their physical range. \n",
    "\n",
    "The `minmax_tilting` algorithm explained in [Botev 2016](https://arxiv.org/abs/1603.04166) is roughly based on the following steps:\n",
    "1. Identify target distribution for which direct sampling might be problematic (multi-dimensional truncated Gaussian)\n",
    "2. Choose a family of tilting distributions that are easier to samples from (Gaussians in our case with adjustable parameters)\n",
    "3. Choose best tilting parameters so that the maximum distance (the Kullback-Leibler (KL) divergence) between the auxiliar and the target distribution is minimized (hence *minimax*)\n",
    "4. Sample from tilted distribution\n",
    "5. Re-weight samples to match the target distribution"
   ]
  },
  {
   "cell_type": "code",
   "execution_count": 19,
   "metadata": {},
   "outputs": [
    {
     "name": "stdout",
     "output_type": "stream",
     "text": [
      "You are using custom ranges for the parameters!\n",
      "You can pass a custom min_array and max_array to get_truncated_likelihood_samples()\n"
     ]
    }
   ],
   "source": [
    "# In priors.py the finction get_truncated_likelihood_samples takes the following arguments:\n",
    "# - fisher_parameters: list of parameters\n",
    "# - mean_values: mean values of the parameters\n",
    "# - cov_matrix: covariance matrix\n",
    "# - num_samples: number of samples to draw\n",
    "# - min_array: minimum values of the parameters\n",
    "# - max_array: maximum values of the parameters\n",
    "# The function returns the samples from the truncated likelihood\n",
    "# If min_array and max_array are not provided, the function will use the default range for each parameter\n",
    "# specified in the default prior dictionary (these ranges are used to truncate the likelihood)\n",
    "\n",
    "samples_from_truncated_lkh = get_truncated_likelihood_samples(fisher_parameters, mean_values, cov_matrix, num_samples)#, min_array, max_array)"
   ]
  },
  {
   "cell_type": "code",
   "execution_count": 20,
   "metadata": {},
   "outputs": [
    {
     "name": "stdout",
     "output_type": "stream",
     "text": [
      "#############################################\n",
      "You are using the default priors dictionary!\n",
      "#############################################\n",
      "#############################################\n",
      "Provide a custom prior dictionary to change the priors in the format {'param_name': {'prior_type': 'prior_function', 'lower_prior_bound': lower_bound, 'upper_prior_bound': upper_bound}}\n",
      "###################################################################################\n",
      "To get a list of implemented prior functions, use get_available_prior_functions()\n",
      "To get the default priors dictionary, use print_default_priors_dict(params)\n"
     ]
    }
   ],
   "source": [
    "# To avoid having a large number of samples outside the physical range, we apply the prior to the samples from\n",
    "# the truncated likelihood. The function get_posteriors_samples takes the following arguments:\n",
    "# - fisher_parameters: list of parameters\n",
    "# - samples_from_truncated_lkh: samples from the truncated likelihood\n",
    "# - num_samples: number of samples to draw\n",
    "# - priors_dict: dictionary with the prior ranges for each parameter (if not provided, the default prior dictionary is used)\n",
    "\n",
    "samples_from_posterior = get_posteriors_samples(fisher_parameters, samples_from_truncated_lkh, num_samples)#, priors_dict)"
   ]
  },
  {
   "cell_type": "code",
   "execution_count": 13,
   "metadata": {},
   "outputs": [
    {
     "name": "stdout",
     "output_type": "stream",
     "text": [
      "chirp_mass: uniform_in_component_masses_chirp_mass in the interval [5, 100]\n",
      "mass_ratio: uniform_in_component_masses_mass_ratio in the interval [0.0, 0.99]\n",
      "luminosity_distance: uniform_in_comoving_volume_and_source_frame in the interval [10, 10000]\n",
      "theta_jn: uniform_in_sine in the interval [0, 3.141592653589793]\n",
      "ra: uniform in the interval [0, 6.283185307179586]\n",
      "dec: uniform_in_cosine in the interval [-1.5707963267948966, 1.5707963267948966]\n",
      "psi: uniform in the interval [0, 3.141592653589793]\n",
      "phase: uniform in the interval [0, 6.283185307179586]\n",
      "geocent_time: uniform in the interval [0, 10000000000.0]\n",
      "a_1: uniform in the interval [0, 0.99]\n",
      "a_2: uniform in the interval [0, 0.99]\n",
      "tilt_1: uniform_in_sine in the interval [0, 3.141592653589793]\n",
      "tilt_2: uniform_in_sine in the interval [0, 3.141592653589793]\n",
      "phi_12: uniform in the interval [0, 6.283185307179586]\n",
      "phi_jl: uniform in the interval [0, 6.283185307179586]\n"
     ]
    }
   ],
   "source": [
    "print_default_priors_dict(fisher_parameters)"
   ]
  },
  {
   "cell_type": "code",
   "execution_count": 14,
   "metadata": {},
   "outputs": [],
   "source": [
    "injections = np.array(mean_values)\n",
    "fisher_samples = pd.DataFrame(samples, columns = fisher_parameters)\n",
    "fisher_truncated_samples = samples_from_truncated_lkh\n",
    "fisher_plus_priors_samples = samples_from_posterior"
   ]
  },
  {
   "cell_type": "code",
   "execution_count": 21,
   "metadata": {},
   "outputs": [
    {
     "data": {
      "image/png": "[encoded data removed]",
      "text/plain": [
       "<Figure size 600x400 with 1 Axes>"
      ]
     },
     "metadata": {},
     "output_type": "display_data"
    }
   ],
   "source": [
    "# Plot the posterior distribution of the parameter of choice\n",
    "sel_param = 'luminosity_distance'\n",
    "\n",
    "fig = plt.figure(figsize=(6, 4))\n",
    "plt.hist(fisher_samples[sel_param], bins=50, histtype='step', density=True,\n",
    "            label='Fisher', alpha = 1., color = 'black')\n",
    "plt.hist(fisher_truncated_samples[sel_param], bins=50, histtype='step', density=True,\n",
    "            label='Fisher + Truncated', alpha = 1., color = 'blue')\n",
    "plt.hist(fisher_plus_priors_samples[sel_param], bins=50, histtype='step', density=True,\n",
    "            label='Fisher + Truncated + Priors', alpha = 1., color = 'red')\n",
    "plt.axvline(injections[fisher_parameters.index(sel_param)], color='black', linestyle='--', label='True Value')\n",
    "plt.xlabel(param_lbs[sel_param])\n",
    "plt.ylabel('PDF')\n",
    "fig.legend(loc='center', bbox_to_anchor=(0.5, 0.95), ncol=2, frameon=False)\n",
    "plt.show()"
   ]
  },
  {
   "cell_type": "markdown",
   "metadata": {},
   "source": [
    "### Priors dictionary example"
   ]
  },
  {
   "cell_type": "code",
   "execution_count": 16,
   "metadata": {},
   "outputs": [],
   "source": [
    "priors_dict = {}\n",
    "priors_dict['chirp_mass'] = {\n",
    "    'prior_type': 'uniform_in_component_masses_chirp_mass',\n",
    "    'lower_prior_bound': parameters['chirp_mass'].iloc[0] - 5.,\n",
    "    'upper_prior_bound': parameters['chirp_mass'].iloc[0] + 5.\n",
    "}\n",
    "priors_dict['mass_ratio'] = {\n",
    "    'prior_type': 'uniform_in_component_masses_mass_ratio',\n",
    "    'lower_prior_bound': 0.05,\n",
    "    'upper_prior_bound': 0.99\n",
    "}\n",
    "priors_dict['luminosity_distance'] = {\n",
    "    'prior_type': 'uniform_in_distance_squared',\n",
    "    'lower_prior_bound': 10,\n",
    "    'upper_prior_bound': 10000\n",
    "}\n",
    "priors_dict['theta_jn'] = {\n",
    "    'prior_type': 'uniform_in_sine',\n",
    "    'lower_prior_bound': 0,\n",
    "    'upper_prior_bound': np.pi\n",
    "}\n",
    "priors_dict['ra'] = {\n",
    "    'prior_type': 'uniform',\n",
    "    'lower_prior_bound': 0.,\n",
    "    'upper_prior_bound': 2*np.pi\n",
    "}\n",
    "priors_dict['dec'] = {\n",
    "    'prior_type': 'uniform_in_cosine',\n",
    "    'lower_prior_bound': -np.pi/2,\n",
    "    'upper_prior_bound': np.pi/2\n",
    "}\n",
    "priors_dict['psi'] = {\n",
    "    'prior_type': 'uniform',\n",
    "    'lower_prior_bound': 0.,\n",
    "    'upper_prior_bound': np.pi\n",
    "}\n",
    "priors_dict['phase'] = {\n",
    "    'prior_type': 'uniform',\n",
    "    'lower_prior_bound': 0.,\n",
    "    'upper_prior_bound': 2*np.pi\n",
    "}\n",
    "priors_dict['geocent_time'] = {\n",
    "    'prior_type': 'uniform',\n",
    "    'lower_prior_bound': parameters['geocent_time'].iloc[0] - 3,\n",
    "    'upper_prior_bound': parameters['geocent_time'].iloc[0] + 3\n",
    "}\n",
    "priors_dict['a_1'] = {\n",
    "    'prior_type': 'uniform',\n",
    "    'lower_prior_bound': 0.,\n",
    "    'upper_prior_bound': 1.\n",
    "}\n",
    "priors_dict['a_2'] = {\n",
    "    'prior_type': 'uniform',\n",
    "    'lower_prior_bound': 0.,\n",
    "    'upper_prior_bound': 1.\n",
    "}\n",
    "priors_dict['tilt_1'] = {\n",
    "    'prior_type': 'uniform_in_sine',\n",
    "    'lower_prior_bound': 0.,\n",
    "    'upper_prior_bound': np.pi\n",
    "}\n",
    "priors_dict['tilt_2'] = {\n",
    "    'prior_type': 'uniform_in_sine',\n",
    "    'lower_prior_bound': 0.,\n",
    "    'upper_prior_bound': np.pi\n",
    "}\n",
    "priors_dict['phi_12'] = {\n",
    "    'prior_type': 'uniform',\n",
    "    'lower_prior_bound': 0.,\n",
    "    'upper_prior_bound': 2*np.pi\n",
    "}\n",
    "priors_dict['phi_jl'] = {\n",
    "    'prior_type': 'uniform',\n",
    "    'lower_prior_bound': 0.,\n",
    "    'upper_prior_bound': 2*np.pi\n",
    "}"
   ]
  }
 ],
 "metadata": {
  "kernelspec": {
   "display_name": "gwfish-1",
   "language": "python",
   "name": "python3"
  },
  "language_info": {
   "codemirror_mode": {
    "name": "ipython",
    "version": 3
   },
   "file_extension": ".py",
   "mimetype": "text/x-python",
   "name": "python",
   "nbconvert_exporter": "python",
   "pygments_lexer": "ipython3",
   "version": "3.9.20"
  }
 },
 "nbformat": 4,
 "nbformat_minor": 2
}
